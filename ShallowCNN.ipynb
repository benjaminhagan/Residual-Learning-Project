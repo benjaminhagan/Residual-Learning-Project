{
 "cells": [
  {
   "cell_type": "code",
   "execution_count": 8,
   "metadata": {},
   "outputs": [],
   "source": [
    "import torch\n",
    "import torch.nn as nn\n",
    "import torch.nn.functional as F\n",
    "import torch.optim as optim\n",
    "import torchvision\n",
    "import torchvision.transforms as transforms\n",
    "import matplotlib.pyplot as plt\n",
    "import numpy as np"
   ]
  },
  {
   "cell_type": "code",
   "execution_count": 9,
   "metadata": {},
   "outputs": [],
   "source": [
    "#Uses gpu if available\n",
    "device = 'cuda:0' if torch.cuda.is_available() else 'cpu'\n",
    "\n",
    "torch.manual_seed(0)\n",
    "batch_size = 8\n",
    "\n",
    "#Downloads datasets\n",
    "transform = transforms.ToTensor()\n",
    "train_dataset = torchvision.datasets.MNIST(root='./data', train=True, download=False, transform=transform) #Set download to true first time\n",
    "test_dataset = torchvision.datasets.MNIST(root='./data', train=False, download=False, transform=transform) #Set download to true first time\n",
    "\n",
    "#Split for cross validation\n",
    "train_dataset, validation_set = torch.utils.data.random_split(train_dataset, [50000, 10000])\n",
    "\n",
    "#Creates DataLoaders for each set\n",
    "trainloader = torch.utils.data.DataLoader(train_dataset, batch_size=batch_size, shuffle=True, num_workers=0)\n",
    "valloader = torch.utils.data.DataLoader(validation_set, batch_size=batch_size, shuffle=False, num_workers=0)\n",
    "testloader = torch.utils.data.DataLoader(test_dataset, batch_size=batch_size, shuffle=False, num_workers=0)\n"
   ]
  },
  {
   "cell_type": "code",
   "execution_count": 10,
   "metadata": {},
   "outputs": [],
   "source": [
    "#Defines Convolutional Neural Network\n",
    "class CNN(nn.Module):\n",
    "    def __init__(self,):\n",
    "        super().__init__()\n",
    "\n",
    "        #Convolutional layers\n",
    "        self.conv1 = nn.Conv2d(1, 32, kernel_size=3, stride=1)\n",
    "        self.pool1 = nn.MaxPool2d(2,2)\n",
    "        self.conv2 = nn.Conv2d(32, 16, kernel_size=3, stride=1)\n",
    "        self.bn1 = nn.BatchNorm2d(16)\n",
    "        self.conv3 = nn.Conv2d(16, 16, kernel_size=3, stride=1)\n",
    "        self.bn2 = nn.BatchNorm2d(16)\n",
    "        self.pool2 = nn.AvgPool2d(2,2)\n",
    "\n",
    "        #Fully connected layers\n",
    "        self.flatten = nn.Flatten()\n",
    "        self.fc1 = nn.Linear(in_features=256, out_features=64)\n",
    "        self.fc2 = nn.Linear(in_features=64, out_features=32)\n",
    "        self.out = nn.Linear(in_features=32, out_features=10)\n",
    "\n",
    "\n",
    "    def forward(self, x):\n",
    "        #Convolutional layers with ReLU activation function\n",
    "        x = F.relu(self.conv1(x))\n",
    "        x = self.pool1(x)\n",
    "        x = self.conv2(x)\n",
    "        x = self.bn1(x)\n",
    "        x = F.relu(x)\n",
    "        x = self.conv3(x)\n",
    "        x = self.bn2(x)\n",
    "        x = F.relu(x)\n",
    "        x = self.pool2(x)\n",
    "\n",
    "        #Fully connected layers with ReLU activation\n",
    "        x = self.flatten(x)\n",
    "        x = F.relu(self.fc1(x))\n",
    "        x = F.relu(self.fc2(x))\n",
    "        x = self.out(x)\n",
    "        \n",
    "        return x"
   ]
  },
  {
   "cell_type": "code",
   "execution_count": 11,
   "metadata": {},
   "outputs": [],
   "source": [
    "#Iterates through a training epoch while displaying performance metrics by batch\n",
    "def train_epoch(network, optimizer, criterion):\n",
    "    network.train(True)\n",
    "    running_loss = 0.0\n",
    "    running_accuracy = 0.0\n",
    "\n",
    "    for batch_index, data in enumerate(trainloader):\n",
    "        inputs, labels = data[0].to(device), data[1].to(device)\n",
    "        optimizer.zero_grad()\n",
    "\n",
    "        outputs = network(inputs)\n",
    "        num_correct = torch.sum(labels == torch.argmax(outputs, dim=1)).item()\n",
    "        running_accuracy += num_correct / batch_size\n",
    "\n",
    "        loss = criterion(outputs, labels)\n",
    "        running_loss += loss.item()\n",
    "        loss.backward()\n",
    "        optimizer.step()\n",
    "\n",
    "        if batch_index % 500 == 499:\n",
    "            avg_loss_across_batches = running_loss / 500\n",
    "            avg_acc_across_batches = (running_accuracy / 500) * 100\n",
    "            print('Batch{0}, Loss: {1:.3f}, Accuracy: {2:.1f}%'.format(batch_index+1, avg_loss_across_batches, avg_acc_across_batches))\n",
    "            running_loss = 0\n",
    "            running_accuracy = 0\n",
    "\n",
    "#Optional method to evaluate performance on validation data\n",
    "def validate_epoch(network, criterion):\n",
    "    network.train(False)\n",
    "    running_loss = 0.0\n",
    "    running_accuracy = 0.0\n",
    "\n",
    "    for i, data in enumerate(valloader):\n",
    "        inputs, labels = data[0].to(device), data[1].to(device)\n",
    "\n",
    "        with torch.no_grad():\n",
    "            outputs = network(inputs)\n",
    "            num_correct = torch.sum(labels == torch.argmax(outputs, dim=1)).item()\n",
    "            running_accuracy += num_correct / batch_size\n",
    "\n",
    "            loss = criterion(outputs, labels)\n",
    "            running_loss += loss.item()\n",
    "\n",
    "    avg_loss_across_batches = running_loss / len(valloader)\n",
    "    avg_accuracy_across_batches = (running_accuracy / len(valloader)) * 100\n",
    "    print('Val Loss: {0:.3f}, Val Accuracy: {1:.1f}%'.format(avg_loss_across_batches, avg_accuracy_across_batches))\n",
    "    print('*****************************************')\n",
    "    print()\n",
    "            "
   ]
  },
  {
   "cell_type": "code",
   "execution_count": 12,
   "metadata": {},
   "outputs": [
    {
     "name": "stdout",
     "output_type": "stream",
     "text": [
      "Epoch 1\n",
      "Batch500, Loss: 1.868, Accuracy: 43.9%\n",
      "Batch1000, Loss: 0.744, Accuracy: 86.2%\n",
      "Batch1500, Loss: 0.324, Accuracy: 93.3%\n",
      "Batch2000, Loss: 0.214, Accuracy: 94.8%\n",
      "Batch2500, Loss: 0.182, Accuracy: 94.7%\n",
      "Batch3000, Loss: 0.154, Accuracy: 95.8%\n",
      "Batch3500, Loss: 0.126, Accuracy: 96.5%\n",
      "Batch4000, Loss: 0.110, Accuracy: 96.8%\n",
      "Batch4500, Loss: 0.113, Accuracy: 96.6%\n",
      "Batch5000, Loss: 0.098, Accuracy: 97.1%\n",
      "Batch5500, Loss: 0.079, Accuracy: 97.8%\n",
      "Batch6000, Loss: 0.083, Accuracy: 97.5%\n",
      "Val Loss: 0.087, Val Accuracy: 97.5%\n",
      "*****************************************\n",
      "\n",
      "Epoch 2\n",
      "Batch500, Loss: 0.083, Accuracy: 97.7%\n",
      "Batch1000, Loss: 0.085, Accuracy: 97.4%\n",
      "Batch1500, Loss: 0.066, Accuracy: 98.0%\n",
      "Batch2000, Loss: 0.063, Accuracy: 98.2%\n",
      "Batch2500, Loss: 0.065, Accuracy: 98.1%\n",
      "Batch3000, Loss: 0.079, Accuracy: 97.6%\n",
      "Batch3500, Loss: 0.053, Accuracy: 98.6%\n",
      "Batch4000, Loss: 0.065, Accuracy: 98.0%\n",
      "Batch4500, Loss: 0.057, Accuracy: 98.2%\n",
      "Batch5000, Loss: 0.068, Accuracy: 98.0%\n",
      "Batch5500, Loss: 0.063, Accuracy: 98.0%\n",
      "Batch6000, Loss: 0.062, Accuracy: 98.2%\n",
      "Val Loss: 0.055, Val Accuracy: 98.2%\n",
      "*****************************************\n",
      "\n"
     ]
    }
   ],
   "source": [
    "#Sets up CNN, optimizer, and loss function\n",
    "cnn = CNN()\n",
    "cnn.to(device)\n",
    "criterion = nn.CrossEntropyLoss()\n",
    "optimizer = optim.Adam(cnn.parameters(), lr=0.0001)\n",
    "\n",
    "#Trains the CNN\n",
    "num_epochs = 2\n",
    "for i in range(num_epochs):\n",
    "    print(f\"Epoch {i+1}\")\n",
    "    train_epoch(cnn, optimizer, criterion)\n",
    "    validate_epoch(cnn, criterion)"
   ]
  },
  {
   "cell_type": "code",
   "execution_count": null,
   "metadata": {},
   "outputs": [
    {
     "name": "stdout",
     "output_type": "stream",
     "text": [
      "Accuracy 98.68\n"
     ]
    }
   ],
   "source": [
    "#Verifies accuracy on test data set\n",
    "total_correct = 0\n",
    "cnn.train(False)\n",
    "for batch_index, data in enumerate(testloader):\n",
    "        inputs, labels = data[0].to(device), data[1].to(device)\n",
    "        outputs = cnn(inputs)\n",
    "        total_correct += torch.sum(labels == torch.argmax(outputs, dim=1)).item()\n",
    "print(f\"Accuracy {(total_correct/len(test_dataset)) * 100}\")"
   ]
  },
  {
   "cell_type": "code",
   "execution_count": 16,
   "metadata": {},
   "outputs": [],
   "source": [
    "torch.save(cnn, 'ShallowCNNParams.pth')"
   ]
  },
  {
   "cell_type": "code",
   "execution_count": 17,
   "metadata": {},
   "outputs": [],
   "source": [
    "#Loads previously trained models\n",
    "with torch.serialization.safe_globals([CNN]):\n",
    "    cnn = torch.load('ShallowCNNParams.pth', weights_only=False)\n",
    "cnn.to(device)\n",
    "test_iter = iter(testloader)"
   ]
  },
  {
   "cell_type": "code",
   "execution_count": 20,
   "metadata": {},
   "outputs": [
    {
     "name": "stdout",
     "output_type": "stream",
     "text": [
      "True label: 9\n",
      "Guess label: 9\n"
     ]
    },
    {
     "data": {
      "text/plain": [
       "<matplotlib.image.AxesImage at 0x24d4cd5c2f0>"
      ]
     },
     "execution_count": 20,
     "metadata": {},
     "output_type": "execute_result"
    },
    {
     "data": {
      "image/png": "[encoded data removed]",
      "text/plain": [
       "<Figure size 640x480 with 1 Axes>"
      ]
     },
     "metadata": {},
     "output_type": "display_data"
    }
   ],
   "source": [
    "#Shows an image along with a guess and true label\n",
    "images, true_labels = next(test_iter)\n",
    "cnn.train(False)\n",
    "guess_labels = cnn(images.to(device))\n",
    "np_imgs = images.numpy()\n",
    "np_img = np_imgs[0]\n",
    "guess_label = torch.argmax(guess_labels[0]).item()\n",
    "print(f\"True label: {true_labels[0]}\")\n",
    "print(f\"Guess label: {guess_label}\")\n",
    "plt.imshow(np_img.reshape((28,28,1)))"
   ]
  }
 ],
 "metadata": {
  "kernelspec": {
   "display_name": "Python 3",
   "language": "python",
   "name": "python3"
  },
  "language_info": {
   "codemirror_mode": {
    "name": "ipython",
    "version": 3
   },
   "file_extension": ".py",
   "mimetype": "text/x-python",
   "name": "python",
   "nbconvert_exporter": "python",
   "pygments_lexer": "ipython3",
   "version": "3.12.0"
  }
 },
 "nbformat": 4,
 "nbformat_minor": 2
}

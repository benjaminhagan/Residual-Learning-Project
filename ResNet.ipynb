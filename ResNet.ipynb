{
 "cells": [
  {
   "cell_type": "code",
   "execution_count": 2,
   "metadata": {},
   "outputs": [],
   "source": [
    "import torch\n",
    "import torch.nn as nn\n",
    "import torch.nn.functional as F\n",
    "import torch.optim as optim\n",
    "import torchvision\n",
    "import torchvision.transforms as transforms\n",
    "import matplotlib.pyplot as plt\n",
    "import numpy as np"
   ]
  },
  {
   "cell_type": "code",
   "execution_count": 3,
   "metadata": {},
   "outputs": [],
   "source": [
    "#Uses gpu if available\n",
    "device = 'cuda:0' if torch.cuda.is_available() else 'cpu'\n",
    "\n",
    "batch_size = 8\n",
    "\n",
    "#Downloads datasets\n",
    "transform = transforms.ToTensor()\n",
    "train_dataset = torchvision.datasets.MNIST(root='./data', train=True, download=False, transform=transform) #Set download to true first time\n",
    "test_dataset = torchvision.datasets.MNIST(root='./data', train=False, download=False, transform=transform) #Set download to true first time\n",
    "\n",
    "#Split for cross validation\n",
    "train_dataset, validation_set = torch.utils.data.random_split(train_dataset, [50000, 10000])\n",
    "\n",
    "#Creates DataLoaders for each set\n",
    "trainloader = torch.utils.data.DataLoader(train_dataset, batch_size=batch_size, shuffle=True, num_workers=2)\n",
    "valloader = torch.utils.data.DataLoader(validation_set, batch_size=batch_size, shuffle=False, num_workers=2)\n",
    "testloader = torch.utils.data.DataLoader(test_dataset, batch_size=batch_size, shuffle=False, num_workers=2)\n"
   ]
  },
  {
   "cell_type": "code",
   "execution_count": null,
   "metadata": {},
   "outputs": [],
   "source": [
    "#Defines class for a residual block\n",
    "class ResidualBlock(nn.Module):\n",
    "    def __init__(self, in_channels, out_channels, stride, kernel_size):\n",
    "        super().__init__()\n",
    "        self.conv1 = nn.Conv2d(in_channels, out_channels, kernel_size=kernel_size, stride=stride)\n",
    "        self.pool1 = nn.MaxPool2d(2,2)\n",
    "        self.conv2 = nn.Conv2d(out_channels, out_channels, kernel_size=kernel_size, stride=stride)\n",
    "        self.pool2 = nn.MaxPool2d(2,2)\n",
    "        self.downsample = nn.Sequential(nn.Conv2d(in_channels, out_channels, kernel_size=kernel_size, stride=stride), \\\n",
    "                                        nn.MaxPool2d(2,2), nn.Conv2d(out_channels, out_channels, kernel_size=kernel_size, stride=stride), nn.MaxPool2d(2,2))\n",
    "\n",
    "    def forward(self, x):\n",
    "        #Keeps activation from previous layer to add as residual later\n",
    "        identity = x\n",
    "        if self.downsample is not None:\n",
    "            identity = self.downsample(x)\n",
    "\n",
    "        #Normal convolution\n",
    "        x = F.relu(self.conv1(x))\n",
    "        x = self.pool1(x)\n",
    "        x = F.relu(self.conv2(x))\n",
    "        x = self.pool2(x)\n",
    "\n",
    "        #Adds residual\n",
    "        x += identity\n",
    "        out = F.relu(x)\n",
    "        return out\n",
    "\n",
    "\n",
    "#Defines Convolutional Neural Network\n",
    "class CNN(nn.Module):\n",
    "    def __init__(self,):\n",
    "        super().__init__()\n",
    "\n",
    "        #Residual layers\n",
    "        self.res1 = ResidualBlock(1, 8, kernel_size=3, stride=1)\n",
    "\n",
    "        #Fully connected layers\n",
    "        self.flatten = nn.Flatten()\n",
    "        self.fc1 = nn.Linear(in_features=200, out_features=64)\n",
    "        self.fc2 = nn.Linear(in_features=64, out_features=32)\n",
    "        self.out = nn.Linear(in_features=32, out_features=10)\n",
    "\n",
    "\n",
    "    def forward(self, x):\n",
    "        #Residual layers with ReLU activation function\n",
    "        x = self.res1(x)\n",
    "\n",
    "        #Fully connected layers with ReLU activation\n",
    "        x = self.flatten(x)\n",
    "        x = F.relu(self.fc1(x))\n",
    "        x = F.relu(self.fc2(x))\n",
    "        x = self.out(x)\n",
    "        \n",
    "        return x"
   ]
  },
  {
   "cell_type": "code",
   "execution_count": 5,
   "metadata": {},
   "outputs": [],
   "source": [
    "#Iterates through a training epoch while displaying performance metrics by batch\n",
    "def train_epoch(network, optimizer, criterion):\n",
    "    network.train(True)\n",
    "    running_loss = 0.0\n",
    "    running_accuracy = 0.0\n",
    "\n",
    "    for batch_index, data in enumerate(trainloader):\n",
    "        inputs, labels = data[0].to(device), data[1].to(device)\n",
    "        optimizer.zero_grad()\n",
    "\n",
    "        outputs = network(inputs)\n",
    "        num_correct = torch.sum(labels == torch.argmax(outputs, dim=1)).item()\n",
    "        running_accuracy += num_correct / batch_size\n",
    "\n",
    "        loss = criterion(outputs, labels)\n",
    "        running_loss += loss.item()\n",
    "        loss.backward()\n",
    "        optimizer.step()\n",
    "\n",
    "        if batch_index % 500 == 499:\n",
    "            avg_loss_across_batches = running_loss / 500\n",
    "            avg_acc_across_batches = (running_accuracy / 500) * 100\n",
    "            print('Batch{0}, Loss: {1:.3f}, Accuracy: {2:.1f}%'.format(batch_index+1, avg_loss_across_batches, avg_acc_across_batches))\n",
    "            running_loss = 0\n",
    "            running_accuracy = 0\n",
    "\n",
    "#Optional method to evaluate performance on validation data\n",
    "def validate_epoch(network, criterion):\n",
    "    network.train(False)\n",
    "    running_loss = 0.0\n",
    "    running_accuracy = 0.0\n",
    "\n",
    "    for i, data in enumerate(valloader):\n",
    "        inputs, labels = data[0].to(device), data[1].to(device)\n",
    "\n",
    "        with torch.no_grad():\n",
    "            outputs = network(inputs)\n",
    "            num_correct = torch.sum(labels == torch.argmax(outputs, dim=1)).item()\n",
    "            running_accuracy += num_correct / batch_size\n",
    "\n",
    "            loss = criterion(outputs, labels)\n",
    "            running_loss += loss.item()\n",
    "\n",
    "    avg_loss_across_batches = running_loss / len(valloader)\n",
    "    avg_accuracy_across_batches = (running_accuracy / len(valloader)) * 100\n",
    "    print('Val Loss: {0:.3f}, Val Accuracy: {1:.1f}%'.format(avg_loss_across_batches, avg_accuracy_across_batches))\n",
    "    print('*****************************************')\n",
    "    print()\n",
    "            "
   ]
  },
  {
   "cell_type": "code",
   "execution_count": 34,
   "metadata": {},
   "outputs": [
    {
     "name": "stdout",
     "output_type": "stream",
     "text": [
      "Epoch 1\n",
      "Batch500, Loss: 2.201, Accuracy: 22.9%\n",
      "Batch1000, Loss: 1.217, Accuracy: 64.8%\n",
      "Batch1500, Loss: 0.688, Accuracy: 80.0%\n",
      "Batch2000, Loss: 0.559, Accuracy: 84.0%\n",
      "Batch2500, Loss: 0.464, Accuracy: 86.6%\n",
      "Batch3000, Loss: 0.418, Accuracy: 87.4%\n",
      "Batch3500, Loss: 0.409, Accuracy: 88.2%\n",
      "Batch4000, Loss: 0.399, Accuracy: 88.1%\n",
      "Batch4500, Loss: 0.371, Accuracy: 88.7%\n",
      "Batch5000, Loss: 0.370, Accuracy: 88.7%\n",
      "Batch5500, Loss: 0.342, Accuracy: 89.6%\n",
      "Batch6000, Loss: 0.316, Accuracy: 90.1%\n",
      "Val Loss: 0.325, Val Accuracy: 90.6%\n",
      "*****************************************\n",
      "\n",
      "Epoch 2\n",
      "Batch500, Loss: 0.316, Accuracy: 90.5%\n",
      "Batch1000, Loss: 0.283, Accuracy: 91.6%\n",
      "Batch1500, Loss: 0.299, Accuracy: 90.5%\n",
      "Batch2000, Loss: 0.293, Accuracy: 91.0%\n",
      "Batch2500, Loss: 0.284, Accuracy: 91.6%\n",
      "Batch3000, Loss: 0.269, Accuracy: 92.2%\n",
      "Batch3500, Loss: 0.264, Accuracy: 91.7%\n",
      "Batch4000, Loss: 0.257, Accuracy: 92.8%\n",
      "Batch4500, Loss: 0.269, Accuracy: 91.9%\n",
      "Batch5000, Loss: 0.239, Accuracy: 92.8%\n",
      "Batch5500, Loss: 0.248, Accuracy: 92.5%\n",
      "Batch6000, Loss: 0.231, Accuracy: 92.7%\n",
      "Val Loss: 0.225, Val Accuracy: 93.2%\n",
      "*****************************************\n",
      "\n"
     ]
    }
   ],
   "source": [
    "#Sets up CNN, optimizer, and loss function\n",
    "cnn = CNN()\n",
    "cnn.to(device)\n",
    "criterion = nn.CrossEntropyLoss()\n",
    "optimizer = optim.Adam(cnn.parameters(), lr=0.0001)\n",
    "\n",
    "#Trains the CNN\n",
    "num_epochs = 2\n",
    "for i in range(num_epochs):\n",
    "    print(f\"Epoch {i+1}\")\n",
    "    train_epoch(cnn, optimizer, criterion)\n",
    "    validate_epoch(cnn, criterion)"
   ]
  },
  {
   "cell_type": "code",
   "execution_count": 35,
   "metadata": {},
   "outputs": [
    {
     "name": "stdout",
     "output_type": "stream",
     "text": [
      "Accuracy 93.85\n"
     ]
    }
   ],
   "source": [
    "#Verifies accuracy on test data set\n",
    "total_correct = 0\n",
    "for batch_index, data in enumerate(testloader):\n",
    "        inputs, labels = data[0].to(device), data[1].to(device)\n",
    "        outputs = cnn(inputs)\n",
    "        total_correct += torch.sum(labels == torch.argmax(outputs, dim=1)).item()\n",
    "print(f\"Accuracy {(total_correct/len(test_dataset)) * 100}\")"
   ]
  },
  {
   "cell_type": "code",
   "execution_count": null,
   "metadata": {},
   "outputs": [],
   "source": [
    "test_iter = iter(testloader)"
   ]
  },
  {
   "cell_type": "code",
   "execution_count": null,
   "metadata": {},
   "outputs": [
    {
     "name": "stdout",
     "output_type": "stream",
     "text": [
      "True label: 7\n",
      "Guess label: 7\n"
     ]
    },
    {
     "data": {
      "text/plain": [
       "<matplotlib.image.AxesImage at 0x1b6669b6d80>"
      ]
     },
     "execution_count": 18,
     "metadata": {},
     "output_type": "execute_result"
    },
    {
     "data": {
      "image/png": "[encoded data removed]",
      "text/plain": [
       "<Figure size 640x480 with 1 Axes>"
      ]
     },
     "metadata": {},
     "output_type": "display_data"
    }
   ],
   "source": [
    "#Shows an image along with a guess and true label\n",
    "images, true_labels = next(test_iter)\n",
    "cnn.train(False)\n",
    "guess_labels = cnn(images.to(device))\n",
    "np_imgs = images.numpy()\n",
    "np_img = np_imgs[0]\n",
    "guess_label = torch.argmax(guess_labels[0]).item()\n",
    "print(f\"True label: {true_labels[0]}\")\n",
    "print(f\"Guess label: {guess_label}\")\n",
    "plt.imshow(np_img.reshape((28,28,1)))"
   ]
  }
 ],
 "metadata": {
  "kernelspec": {
   "display_name": "Python 3",
   "language": "python",
   "name": "python3"
  },
  "language_info": {
   "codemirror_mode": {
    "name": "ipython",
    "version": 3
   },
   "file_extension": ".py",
   "mimetype": "text/x-python",
   "name": "python",
   "nbconvert_exporter": "python",
   "pygments_lexer": "ipython3",
   "version": "3.12.0"
  }
 },
 "nbformat": 4,
 "nbformat_minor": 2
}
